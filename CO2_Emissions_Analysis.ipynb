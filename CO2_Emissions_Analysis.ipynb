{
 "cells": [
  {
   "cell_type": "markdown",
   "id": "516e9fe0",
   "metadata": {},
   "source": [
    "# 🌍 CO2 Emissions Data Analysis from Worldometer\n",
    "This notebook demonstrates web scraping, data cleaning, and analysis of CO2 emissions data for the United States.\n",
    "We will answer four analytical questions using real-world data scraped from [Worldometer](https://www.worldometers.info/co2-emissions/us-co2-emissions/), and visualize key trends using **Seaborn**."
   ]
  },
  {
   "cell_type": "markdown",
   "id": "42df0376",
   "metadata": {},
   "source": [
    "## 🔍 Objective\n",
    "1. Scrape CO2 emissions data from at least five rows on the Worldometer website.\n",
    "2. Store and clean the data using `pandas`.\n",
    "3. Answer at least four data analysis questions:\n",
    "   - Trend of CO2 emissions over time.\n",
    "   - Year of highest emissions.\n",
    "   - Average emissions over all years.\n",
    "   - Emissions compared across decades.\n",
    "4. Plot at least two of the answers using **Seaborn**, with labels and styled charts."
   ]
  },
  {
   "cell_type": "markdown",
   "id": "936be585",
   "metadata": {},
   "source": [
    "## Step 1: Web Scraping\n",
    "We use requests and BeautifulSoup to pull the CO2 emissions data for the U.S. from the Worldometer website."
   ]
  },
  {
   "cell_type": "markdown",
   "id": "b1e8bc9d",
   "metadata": {},
   "source": [
    "## Step 2: Data Cleaning\n",
    "We convert strings to numeric formats and extract useful columns like `Decade`. This ensures consistency and makes our data analysis smoother."
   ]
  },
  {
   "cell_type": "markdown",
   "id": "959b3e69",
   "metadata": {},
   "source": [
    "## Step 3: Data Analysis\n",
    "Here we answer four key questions about the data. Two are answered numerically and two using visualizations created with **Seaborn**."
   ]
  },
  {
   "cell_type": "markdown",
   "id": "727ffbac",
   "metadata": {},
   "source": [
    "## Q1: What is the trend of CO2 emissions over time?\n",
    "We visualize the year-by-year CO2 emissions using a Seaborn line plot."
   ]
  },
  {
   "cell_type": "markdown",
   "id": "81c940c7",
   "metadata": {},
   "source": [
    "## Q2: What year had the highest CO2 emissions?\n",
    "We identify the year with the highest CO2 output."
   ]
  },
  {
   "cell_type": "markdown",
   "id": "6c8ff855",
   "metadata": {},
   "source": [
    "## Q3: What is the average annual CO2 emission?\n",
    "We calculate the mean annual emission level for all recorded years."
   ]
  },
  {
   "cell_type": "markdown",
   "id": "300ee1e9",
   "metadata": {},
   "source": [
    "## Q4: How do emissions compare across decades?\n",
    "We group emissions by decade and visualize the total emissions per decade using a bar chart with labels."
   ]
  },
  {
   "cell_type": "markdown",
   "id": "6b6be542",
   "metadata": {},
   "source": [
    "## Conclusion\n",
    "- CO2 emissions have shown distinct trends over the years.\n",
    "- The highest emission year was identified, along with the average annual output.\n",
    "- Visualizations reveal that certain decades were significantly higher in total emissions.\n",
    "- This analysis helps understand how CO2 levels have shifted and can inform future environmental decisions."
   ]
  },
  {
   "cell_type": "code",
   "execution_count": null,
   "id": "f7adc6f8",
   "metadata": {},
   "outputs": [],
   "source": [
    "# Import necessary libraries\n",
    "import requests\n",
    "from bs4 import BeautifulSoup\n",
    "import pandas as pd\n",
    "import seaborn as sns\n",
    "import matplotlib.pyplot as plt\n",
    "\n",
    "# Basic style setup\n",
    "sns.set_style(\"whitegrid\")\n",
    "plt.rcParams['figure.figsize'] = (12, 6)"
   ]
  },
  {
   "cell_type": "code",
   "execution_count": null,
   "id": "f64e7de5",
   "metadata": {},
   "outputs": [],
   "source": [
    "#  Step 1: Scrape data from Worldometer (CO2 Emissions - USA)\n",
    "\n",
    "url = 'https://www.worldometers.info/co2-emissions/us-co2-emissions/'\n",
    "response = requests.get(url)\n",
    "soup = BeautifulSoup(response.content, 'html.parser')\n",
    "\n",
    "# Locate the emissions table\n",
    "table = soup.find('table')\n",
    "headers = [th.text.strip() for th in table.find_all('th')]\n",
    "\n",
    "#  Extract all rows\n",
    "data = []\n",
    "for row in table.find_all('tr')[1:]:\n",
    "    cells = [td.text.strip() for td in row.find_all('td')]\n",
    "    if len(cells) == len(headers):\n",
    "        data.append(cells)\n",
    "\n",
    "#  Create DataFrame\n",
    "df = pd.DataFrame(data, columns=headers)\n",
    "df.head()"
   ]
  },
  {
   "cell_type": "code",
   "execution_count": null,
   "id": "b17d98c6",
   "metadata": {},
   "outputs": [],
   "source": [
    "#  Step 2: Clean the Data\n",
    "\n",
    "# Convert data types\n",
    "df['Year'] = df['Year'].astype(int)\n",
    "df['Fossil CO2 Emissions (tons)'] = df['Fossil CO2 Emissions (tons)'].str.replace(\",\", \"\").astype(float)\n",
    "\n",
    "# Add Decade column\n",
    "df['Decade'] = (df['Year'] // 10) * 10\n",
    "\n",
    "# Final check\n",
    "df.info()"
   ]
  },
  {
   "cell_type": "code",
   "execution_count": null,
   "id": "633391e2",
   "metadata": {},
   "outputs": [],
   "source": [
    "# Q1: What is the trend of CO2 emissions over time?\n",
    "\n",
    "plt.figure()\n",
    "sns.lineplot(data=df, x=\"Year\", y=\"Fossil CO2 Emissions (tons)\", marker='o', color='green')\n",
    "\n",
    "# Annotate last data point\n",
    "last_row = df.iloc[-1]\n",
    "plt.text(last_row['Year'], last_row['Fossil CO2 Emissions (tons)'] + 5e7,\n",
    "         f\"{int(last_row['Fossil CO2 Emissions (tons)']):,}\", ha='center', fontsize=10)\n",
    "\n",
    "plt.title(\"📈 Trend of U.S. CO2 Emissions Over Time\")\n",
    "plt.ylabel(\"CO2 Emissions (tons)\")\n",
    "plt.xlabel(\"Year\")\n",
    "plt.tight_layout()\n",
    "plt.show()"
   ]
  },
  {
   "cell_type": "code",
   "execution_count": null,
   "id": "443f27c6",
   "metadata": {},
   "outputs": [],
   "source": [
    "# Q2: What year had the highest CO2 emissions?\n",
    "\n",
    "max_val = df['Fossil CO2 Emissions (tons)'].max()\n",
    "max_year = df[df['Fossil CO2 Emissions (tons)'] == max_val]['Year'].values[0]\n",
    "print(f\"🔺 Highest CO2 emission: {max_val:,.0f} tons in {max_year}\")"
   ]
  },
  {
   "cell_type": "code",
   "execution_count": null,
   "id": "48492f6d",
   "metadata": {},
   "outputs": [],
   "source": [
    "# Q3: What is the average annual CO2 emission?\n",
    "\n",
    "average_emission = df['Fossil CO2 Emissions (tons)'].mean()\n",
    "print(f\"📉 Average annual CO2 emission: {average_emission:,.0f} tons\")"
   ]
  },
  {
   "cell_type": "code",
   "execution_count": null,
   "id": "27e39f50",
   "metadata": {},
   "outputs": [],
   "source": [
    "# Q4: How do emissions compare across decades?\n",
    "\n",
    "plt.figure()\n",
    "decade_data = df.groupby(\"Decade\")['Fossil CO2 Emissions (tons)'].sum().reset_index()\n",
    "\n",
    "sns.barplot(data=decade_data, x=\"Decade\", y=\"Fossil CO2 Emissions (tons)\", palette='crest')\n",
    "\n",
    "# Annotate bars\n",
    "for i in range(len(decade_data)):\n",
    "    val = decade_data['Fossil CO2 Emissions (tons)'].iloc[i]\n",
    "    plt.text(i, val + 5e8, f\"{val/1e9:.2f}B\", ha='center', fontsize=10)\n",
    "\n",
    "plt.title(\"Total U.S. CO2 Emissions by Decade\")\n",
    "plt.xlabel(\"Decade\")\n",
    "plt.ylabel(\"Total CO2 Emissions (tons)\")\n",
    "plt.tight_layout()\n",
    "plt.show()"
   ]
  }
 ],
 "metadata": {
  "language_info": {
   "name": "python"
  }
 },
 "nbformat": 4,
 "nbformat_minor": 5
}
