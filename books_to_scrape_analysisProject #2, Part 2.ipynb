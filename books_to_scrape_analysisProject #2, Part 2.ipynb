{
 "cells": [
  {
   "cell_type": "markdown",
   "id": "11f153ec",
   "metadata": {},
   "source": [
    "# Books to Scrape - Data Analysis 📚\n",
    "\n",
    "**Your Name**  Logan Ash\n",
    "**Date:** May 7, 2025\n",
    "\n",
    "In this project, we scrape data from [Books to Scrape](https://books.toscrape.com/),\n",
    "analyze book prices, star ratings, availability, and categories.\n",
    "\n",
    "---\n",
    "### Goals:\n",
    "1. Scrape at least 5 pages of book data.\n",
    "2. Clean and structure the data.\n",
    "3. Answer 4 data analysis questions:\n",
    "   - Average price of books.\n",
    "   - Distribution of star ratings.\n",
    "   - Category with the most books.\n",
    "   - Price comparison by rating.\n",
    "4. Use Seaborn for visualization with labels, titles, and styling.\n",
    "\n",
    "---"
   ]
  },
  {
   "cell_type": "code",
   "execution_count": 1,
   "id": "a57f0218",
   "metadata": {},
   "outputs": [],
   "source": [
    "# Importing libraries\n",
    "import requests\n",
    "from bs4 import BeautifulSoup\n",
    "import pandas as pd\n",
    "import seaborn as sns\n",
    "import matplotlib.pyplot as plt\n",
    "\n",
    "base_url = 'https://books.toscrape.com/catalogue/page-{}.html'"
   ]
  },
  {
   "cell_type": "code",
   "execution_count": 2,
   "id": "79102916",
   "metadata": {},
   "outputs": [],
   "source": [
    "# Function to scrape a single page\n",
    "def scrape_books_page(page_num):\n",
    "    url = base_url.format(page_num)\n",
    "    response = requests.get(url)\n",
    "    soup = BeautifulSoup(response.content, 'html.parser')\n",
    "    books = soup.find_all('article', class_='product_pod')\n",
    "    \n",
    "    data = []\n",
    "    for book in books:\n",
    "        title = book.h3.a['title']\n",
    "        price = book.find('p', class_='price_color').text.strip('£')\n",
    "        availability = book.find('p', class_='instock availability').text.strip()\n",
    "        rating = book.p['class'][1]\n",
    "        \n",
    "        data.append([title, float(price), availability, rating])\n",
    "    return data"
   ]
  },
  {
   "cell_type": "code",
   "execution_count": 3,
   "id": "d7e3ba65",
   "metadata": {},
   "outputs": [
    {
     "data": {
      "text/html": [
       "<div>\n",
       "<style scoped>\n",
       "    .dataframe tbody tr th:only-of-type {\n",
       "        vertical-align: middle;\n",
       "    }\n",
       "\n",
       "    .dataframe tbody tr th {\n",
       "        vertical-align: top;\n",
       "    }\n",
       "\n",
       "    .dataframe thead th {\n",
       "        text-align: right;\n",
       "    }\n",
       "</style>\n",
       "<table border=\"1\" class=\"dataframe\">\n",
       "  <thead>\n",
       "    <tr style=\"text-align: right;\">\n",
       "      <th></th>\n",
       "      <th>Title</th>\n",
       "      <th>Price</th>\n",
       "      <th>Availability</th>\n",
       "      <th>Rating</th>\n",
       "    </tr>\n",
       "  </thead>\n",
       "  <tbody>\n",
       "    <tr>\n",
       "      <th>0</th>\n",
       "      <td>A Light in the Attic</td>\n",
       "      <td>51.77</td>\n",
       "      <td>In stock</td>\n",
       "      <td>Three</td>\n",
       "    </tr>\n",
       "    <tr>\n",
       "      <th>1</th>\n",
       "      <td>Tipping the Velvet</td>\n",
       "      <td>53.74</td>\n",
       "      <td>In stock</td>\n",
       "      <td>One</td>\n",
       "    </tr>\n",
       "    <tr>\n",
       "      <th>2</th>\n",
       "      <td>Soumission</td>\n",
       "      <td>50.10</td>\n",
       "      <td>In stock</td>\n",
       "      <td>One</td>\n",
       "    </tr>\n",
       "    <tr>\n",
       "      <th>3</th>\n",
       "      <td>Sharp Objects</td>\n",
       "      <td>47.82</td>\n",
       "      <td>In stock</td>\n",
       "      <td>Four</td>\n",
       "    </tr>\n",
       "    <tr>\n",
       "      <th>4</th>\n",
       "      <td>Sapiens: A Brief History of Humankind</td>\n",
       "      <td>54.23</td>\n",
       "      <td>In stock</td>\n",
       "      <td>Five</td>\n",
       "    </tr>\n",
       "  </tbody>\n",
       "</table>\n",
       "</div>"
      ],
      "text/plain": [
       "                                   Title  Price Availability Rating\n",
       "0                   A Light in the Attic  51.77     In stock  Three\n",
       "1                     Tipping the Velvet  53.74     In stock    One\n",
       "2                             Soumission  50.10     In stock    One\n",
       "3                          Sharp Objects  47.82     In stock   Four\n",
       "4  Sapiens: A Brief History of Humankind  54.23     In stock   Five"
      ]
     },
     "execution_count": 3,
     "metadata": {},
     "output_type": "execute_result"
    }
   ],
   "source": [
    "# Scrape first 5 pages (100 books)\n",
    "all_books = []\n",
    "for page in range(1, 6):\n",
    "    all_books.extend(scrape_books_page(page))\n",
    "\n",
    "# Create DataFrame\n",
    "df = pd.DataFrame(all_books, columns=['Title', 'Price', 'Availability', 'Rating'])\n",
    "df.head()"
   ]
  },
  {
   "cell_type": "code",
   "execution_count": 4,
   "id": "de6c524c",
   "metadata": {},
   "outputs": [
    {
     "data": {
      "text/html": [
       "<div>\n",
       "<style scoped>\n",
       "    .dataframe tbody tr th:only-of-type {\n",
       "        vertical-align: middle;\n",
       "    }\n",
       "\n",
       "    .dataframe tbody tr th {\n",
       "        vertical-align: top;\n",
       "    }\n",
       "\n",
       "    .dataframe thead th {\n",
       "        text-align: right;\n",
       "    }\n",
       "</style>\n",
       "<table border=\"1\" class=\"dataframe\">\n",
       "  <thead>\n",
       "    <tr style=\"text-align: right;\">\n",
       "      <th></th>\n",
       "      <th>Title</th>\n",
       "      <th>Price</th>\n",
       "      <th>Availability</th>\n",
       "      <th>Rating</th>\n",
       "      <th>InStock</th>\n",
       "      <th>Category</th>\n",
       "    </tr>\n",
       "  </thead>\n",
       "  <tbody>\n",
       "    <tr>\n",
       "      <th>0</th>\n",
       "      <td>A Light in the Attic</td>\n",
       "      <td>51.77</td>\n",
       "      <td>In stock</td>\n",
       "      <td>3</td>\n",
       "      <td>True</td>\n",
       "      <td>Other</td>\n",
       "    </tr>\n",
       "    <tr>\n",
       "      <th>1</th>\n",
       "      <td>Tipping the Velvet</td>\n",
       "      <td>53.74</td>\n",
       "      <td>In stock</td>\n",
       "      <td>1</td>\n",
       "      <td>True</td>\n",
       "      <td>Other</td>\n",
       "    </tr>\n",
       "    <tr>\n",
       "      <th>2</th>\n",
       "      <td>Soumission</td>\n",
       "      <td>50.10</td>\n",
       "      <td>In stock</td>\n",
       "      <td>1</td>\n",
       "      <td>True</td>\n",
       "      <td>Other</td>\n",
       "    </tr>\n",
       "    <tr>\n",
       "      <th>3</th>\n",
       "      <td>Sharp Objects</td>\n",
       "      <td>47.82</td>\n",
       "      <td>In stock</td>\n",
       "      <td>4</td>\n",
       "      <td>True</td>\n",
       "      <td>Other</td>\n",
       "    </tr>\n",
       "    <tr>\n",
       "      <th>4</th>\n",
       "      <td>Sapiens: A Brief History of Humankind</td>\n",
       "      <td>54.23</td>\n",
       "      <td>In stock</td>\n",
       "      <td>5</td>\n",
       "      <td>True</td>\n",
       "      <td>Other</td>\n",
       "    </tr>\n",
       "  </tbody>\n",
       "</table>\n",
       "</div>"
      ],
      "text/plain": [
       "                                   Title  Price Availability  Rating  InStock  \\\n",
       "0                   A Light in the Attic  51.77     In stock       3     True   \n",
       "1                     Tipping the Velvet  53.74     In stock       1     True   \n",
       "2                             Soumission  50.10     In stock       1     True   \n",
       "3                          Sharp Objects  47.82     In stock       4     True   \n",
       "4  Sapiens: A Brief History of Humankind  54.23     In stock       5     True   \n",
       "\n",
       "  Category  \n",
       "0    Other  \n",
       "1    Other  \n",
       "2    Other  \n",
       "3    Other  \n",
       "4    Other  "
      ]
     },
     "execution_count": 4,
     "metadata": {},
     "output_type": "execute_result"
    }
   ],
   "source": [
    "# Clean Rating column\n",
    "rating_map = {'One': 1, 'Two': 2, 'Three': 3, 'Four': 4, 'Five': 5}\n",
    "df['Rating'] = df['Rating'].map(rating_map)\n",
    "\n",
    "# Extract In stock/out of stock\n",
    "df['InStock'] = df['Availability'].apply(lambda x: 'In stock' in x)\n",
    "\n",
    "# Load category from product URL (slow, optional)\n",
    "def get_category(title):\n",
    "    # Dummy logic for this small example (in real life you'd follow links)\n",
    "    # We'll simulate category extraction by grouping based on keywords\n",
    "    if 'science' in title.lower(): return 'Science'\n",
    "    elif 'fiction' in title.lower(): return 'Fiction'\n",
    "    elif 'travel' in title.lower(): return 'Travel'\n",
    "    elif 'poetry' in title.lower(): return 'Poetry'\n",
    "    else: return 'Other'\n",
    "\n",
    "df['Category'] = df['Title'].apply(get_category)\n",
    "\n",
    "df.head()"
   ]
  },
  {
   "cell_type": "code",
   "execution_count": 5,
   "id": "6fda05db",
   "metadata": {},
   "outputs": [
    {
     "name": "stdout",
     "output_type": "stream",
     "text": [
      "Average Price of Books: £34.56\n"
     ]
    }
   ],
   "source": [
    "# Question 1: Average Price of Books\n",
    "avg_price = df['Price'].mean()\n",
    "print(f'Average Price of Books: £{avg_price:.2f}')"
   ]
  },
  {
   "cell_type": "code",
   "execution_count": 6,
   "id": "80de868d",
   "metadata": {},
   "outputs": [
    {
     "data": {
      "image/png": "[encoded data removed]",
      "text/plain": [
       "<Figure size 800x500 with 1 Axes>"
      ]
     },
     "metadata": {},
     "output_type": "display_data"
    }
   ],
   "source": [
    "# Question 2: Distribution of Star Ratings\n",
    "plt.figure(figsize=(8,5))\n",
    "sns.countplot(data=df, x='Rating', hue='Rating', palette='coolwarm', legend=False)\n",
    "plt.title('Distribution of Star Ratings', fontsize=14, weight='bold')\n",
    "plt.xlabel('Star Rating')\n",
    "plt.ylabel('Number of Books')\n",
    "\n",
    "# Add count labels above bars\n",
    "for p in plt.gca().patches:\n",
    "    plt.text(p.get_x() + p.get_width()/2., p.get_height()+0.5, int(p.get_height()), ha='center')\n",
    "\n",
    "plt.show()\n"
   ]
  },
  {
   "cell_type": "code",
   "execution_count": 7,
   "id": "f1e543f2",
   "metadata": {},
   "outputs": [
    {
     "name": "stderr",
     "output_type": "stream",
     "text": [
      "C:\\Users\\logan\\AppData\\Local\\Temp\\ipykernel_23192\\1152232708.py:6: FutureWarning: \n",
      "\n",
      "Passing `palette` without assigning `hue` is deprecated and will be removed in v0.14.0. Assign the `x` variable to `hue` and set `legend=False` for the same effect.\n",
      "\n",
      "  sns.barplot(data=category_counts, x='Category', y='Count', palette='viridis')\n"
     ]
    },
    {
     "data": {
      "image/png": "[encoded data removed]",
      "text/plain": [
       "<Figure size 800x500 with 1 Axes>"
      ]
     },
     "metadata": {},
     "output_type": "display_data"
    }
   ],
   "source": [
    "# Question 3: Category with Most Books\n",
    "category_counts = df['Category'].value_counts().reset_index()\n",
    "category_counts.columns = ['Category', 'Count']\n",
    "\n",
    "plt.figure(figsize=(8,5))\n",
    "sns.barplot(data=category_counts, x='Category', y='Count', palette='viridis')\n",
    "plt.title('Books per Category', fontsize=14, weight='bold')\n",
    "for index, row in category_counts.iterrows():\n",
    "    plt.text(index, row['Count']+0.5, row['Count'], ha='center')\n",
    "plt.show()"
   ]
  },
  {
   "cell_type": "code",
   "execution_count": 8,
   "id": "14838f3f",
   "metadata": {},
   "outputs": [
    {
     "data": {
      "image/png": "[encoded data removed]",
      "text/plain": [
       "<Figure size 800x500 with 1 Axes>"
      ]
     },
     "metadata": {},
     "output_type": "display_data"
    }
   ],
   "source": [
    "# Question 4: Price Comparison by Rating\n",
    "plt.figure(figsize=(8,5))\n",
    "sns.boxplot(data=df, x='Rating', y='Price', hue='Rating', palette='pastel', legend=False)\n",
    "plt.title('Price Comparison by Rating', fontsize=14, weight='bold')\n",
    "plt.xlabel('Star Rating')\n",
    "plt.ylabel('Book Price (£)')\n",
    "plt.grid(alpha=0.3)\n",
    "plt.show()\n"
   ]
  }
 ],
 "metadata": {
  "kernelspec": {
   "display_name": "Python 3",
   "language": "python",
   "name": "python3"
  },
  "language_info": {
   "codemirror_mode": {
    "name": "ipython",
    "version": 3
   },
   "file_extension": ".py",
   "mimetype": "text/x-python",
   "name": "python",
   "nbconvert_exporter": "python",
   "pygments_lexer": "ipython3",
   "version": "3.11.9"
  }
 },
 "nbformat": 4,
 "nbformat_minor": 5
}
